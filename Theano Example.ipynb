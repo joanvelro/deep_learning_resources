{
 "cells": [
  {
   "cell_type": "code",
   "execution_count": 3,
   "metadata": {},
   "outputs": [],
   "source": [
    "import theano\n",
    "import theano.tensor as tt\n",
    "import numpy as np\n",
    "import pymc3 as pm"
   ]
  },
  {
   "cell_type": "code",
   "execution_count": 4,
   "metadata": {},
   "outputs": [
    {
     "data": {
      "text/html": [
       "\n",
       "        <iframe\n",
       "            width=\"700\"\n",
       "            height=\"600\"\n",
       "            src=\"https://docs.pymc.io/PyMC3_and_Theano.html\"\n",
       "            frameborder=\"0\"\n",
       "            allowfullscreen\n",
       "        ></iframe>\n",
       "        "
      ],
      "text/plain": [
       "<IPython.lib.display.IFrame at 0x1c1cc64898>"
      ]
     },
     "execution_count": 4,
     "metadata": {},
     "output_type": "execute_result"
    }
   ],
   "source": [
    "from IPython.display import IFrame\n",
    "IFrame(src='https://docs.pymc.io/PyMC3_and_Theano.html', width=700, height=600)"
   ]
  },
  {
   "cell_type": "code",
   "execution_count": 5,
   "metadata": {},
   "outputs": [],
   "source": [
    "# We don't specify the dtype of our input variables, so it\n",
    "# defaults to using float64 without any special config.\n",
    "a = tt.scalar('a')\n",
    "x = tt.vector('x')\n",
    "# `tt.ivector` creates a symbolic vector of integers.\n",
    "y = tt.ivector('y')\n",
    "\n",
    "inner = a * x**3 + y**2\n",
    "out = tt.exp(inner).sum()"
   ]
  },
  {
   "cell_type": "code",
   "execution_count": 7,
   "metadata": {},
   "outputs": [],
   "source": [
    "func = theano.function([a, x, y], [out], allow_input_downcast=True)\n",
    "\n",
    "a_val = 1.2\n",
    "x_vals = np.random.randn(10)\n",
    "y_vals = np.random.randn(10)\n",
    "\n",
    "out = func(a_val, x_vals, y_vals)"
   ]
  },
  {
   "cell_type": "code",
   "execution_count": 8,
   "metadata": {},
   "outputs": [],
   "source": [
    "a = tt.vector('a')\n",
    "if (a > 0).all():\n",
    "    b = tt.sqrt(a)\n",
    "else:\n",
    "    b = -a\n",
    "\n",
    "a = tt.vector('a')\n",
    "b = tt.sqrt(a)\n",
    "\n",
    "a = tt.vector('a')\n",
    "b = tt.switch((a > 0).all(), tt.sqrt(a), -a)\n",
    "\n",
    "a = tt.vector('a')\n",
    "# Access the 10th element. This will fail when a function build\n",
    "# from this expression is executed with an array that is too short.\n",
    "b = a[10]\n",
    "\n",
    "# Extract a subvector\n",
    "b = a[[1, 2, 10]]\n",
    "\n",
    "a = tt.vector('a')\n",
    "b = tt.set_subtensor(a[:10], 1)\n",
    "\n",
    "# is roughly equivalent to this (although theano avoids\n",
    "# the copy if `a` isn't used anymore)\n",
    "a = np.random.randn(10)\n",
    "b = a.copy()\n",
    "b[:10] = 1"
   ]
  },
  {
   "cell_type": "code",
   "execution_count": 6,
   "metadata": {},
   "outputs": [
    {
     "ename": "AttributeError",
     "evalue": "'Model' object has no attribute 'add_free_variable'",
     "output_type": "error",
     "traceback": [
      "\u001b[0;31m---------------------------------------------------------------------------\u001b[0m",
      "\u001b[0;31mAttributeError\u001b[0m                            Traceback (most recent call last)",
      "\u001b[0;32m<ipython-input-6-c1bf130eeda3>\u001b[0m in \u001b[0;36m<module>\u001b[0;34m\u001b[0m\n\u001b[1;32m     11\u001b[0m \u001b[0;34m\u001b[0m\u001b[0m\n\u001b[1;32m     12\u001b[0m \u001b[0mmu\u001b[0m \u001b[0;34m=\u001b[0m \u001b[0mtt\u001b[0m\u001b[0;34m.\u001b[0m\u001b[0mscalar\u001b[0m\u001b[0;34m(\u001b[0m\u001b[0;34m'mu'\u001b[0m\u001b[0;34m)\u001b[0m\u001b[0;34m\u001b[0m\u001b[0;34m\u001b[0m\u001b[0m\n\u001b[0;32m---> 13\u001b[0;31m \u001b[0mmodel\u001b[0m\u001b[0;34m.\u001b[0m\u001b[0madd_free_variable\u001b[0m\u001b[0;34m(\u001b[0m\u001b[0mmu\u001b[0m\u001b[0;34m)\u001b[0m\u001b[0;34m\u001b[0m\u001b[0;34m\u001b[0m\u001b[0m\n\u001b[0m\u001b[1;32m     14\u001b[0m \u001b[0mmodel\u001b[0m\u001b[0;34m.\u001b[0m\u001b[0madd_logp_term\u001b[0m\u001b[0;34m(\u001b[0m\u001b[0mpm\u001b[0m\u001b[0;34m.\u001b[0m\u001b[0mNormal\u001b[0m\u001b[0;34m.\u001b[0m\u001b[0mdist\u001b[0m\u001b[0;34m(\u001b[0m\u001b[0;36m0\u001b[0m\u001b[0;34m,\u001b[0m \u001b[0;36m1\u001b[0m\u001b[0;34m)\u001b[0m\u001b[0;34m.\u001b[0m\u001b[0mlogp\u001b[0m\u001b[0;34m(\u001b[0m\u001b[0mmu\u001b[0m\u001b[0;34m)\u001b[0m\u001b[0;34m)\u001b[0m\u001b[0;34m\u001b[0m\u001b[0;34m\u001b[0m\u001b[0m\n\u001b[1;32m     15\u001b[0m \u001b[0;34m\u001b[0m\u001b[0m\n",
      "\u001b[0;31mAttributeError\u001b[0m: 'Model' object has no attribute 'add_free_variable'"
     ]
    }
   ],
   "source": [
    "true_mu = 0.1\n",
    "data = true_mu + np.random.randn(50)\n",
    "\n",
    "with pm.Model() as model:\n",
    "    mu = pm.Normal('mu', mu=0, sigma=1)\n",
    "    y = pm.Normal('y', mu=mu, sigma=1, observed=data)\n",
    "\n",
    "# For illustration only, those functions don't actually exist\n",
    "# in exactly this way!\n",
    "model = pm.Model()\n",
    "\n",
    "mu = tt.scalar('mu')\n",
    "model.add_free_variable(mu)\n",
    "model.add_logp_term(pm.Normal.dist(0, 1).logp(mu))\n",
    "\n",
    "model.add_logp_term(pm.Normal.dist(mu, 1).logp(data))\n",
    "\n",
    "\n",
    "with pm.Model() as model:\n",
    "    mu = pm.Normal('mu', 0, 1)\n",
    "    sd = pm.HalfNormal('sd', 1)\n",
    "    y = pm.Normal('y', mu=mu, sigma=sd, observed=data)\n",
    "\n",
    "\n",
    "# For illustration only, not real code!\n",
    "model = pm.Model()\n",
    "mu = tt.scalar('mu')\n",
    "model.add_free_variable(mu)\n",
    "model.add_logp_term(pm.Normal.dist(0, 1).logp(mu))\n",
    "\n",
    "sd_log__ = tt.scalar('sd_log__')\n",
    "model.add_free_variable(sd_log__)\n",
    "model.add_logp_term(corrected_logp_half_normal(sd_log__))\n",
    "\n",
    "sd = tt.exp(sd_log__)\n",
    "model.add_deterministic_variable(sd)\n",
    "\n",
    "model.add_logp_term(pm.Normal.dist(mu, sd).logp(data))\n",
    "\n",
    "design_matrix = np.array([[...]])\n",
    "with pm.Model() as model:\n",
    "    # beta is a tt.dvector\n",
    "    beta = pm.Normal('beta', 0, 1, shape=len(design_matrix))\n",
    "    predict = tt.dot(design_matrix, beta)\n",
    "    sd = pm.HalfCauchy('sd', beta=2.5)\n",
    "    pm.Normal('y', mu=predict, sigma=sd, observed=data)"
   ]
  },
  {
   "cell_type": "code",
   "execution_count": null,
   "metadata": {},
   "outputs": [],
   "source": []
  }
 ],
 "metadata": {
  "@webio": {
   "lastCommId": null,
   "lastKernelId": null
  },
  "kernelspec": {
   "display_name": "Python 3",
   "language": "python",
   "name": "python3"
  },
  "language_info": {
   "codemirror_mode": {
    "name": "ipython",
    "version": 3
   },
   "file_extension": ".py",
   "mimetype": "text/x-python",
   "name": "python",
   "nbconvert_exporter": "python",
   "pygments_lexer": "ipython3",
   "version": "3.7.3"
  }
 },
 "nbformat": 4,
 "nbformat_minor": 2
}
