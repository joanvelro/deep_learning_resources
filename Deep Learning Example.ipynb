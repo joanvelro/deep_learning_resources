{
 "cells": [
  {
   "cell_type": "code",
   "execution_count": 4,
   "metadata": {},
   "outputs": [
    {
     "data": {
      "text/html": [
       "\n",
       "        <iframe\n",
       "            width=\"700\"\n",
       "            height=\"600\"\n",
       "            src=\"https://apmonitor.com/do/index.php/Main/DeepLearning\"\n",
       "            frameborder=\"0\"\n",
       "            allowfullscreen\n",
       "        ></iframe>\n",
       "        "
      ],
      "text/plain": [
       "<IPython.lib.display.IFrame at 0x109d4bb70>"
      ]
     },
     "execution_count": 4,
     "metadata": {},
     "output_type": "execute_result"
    }
   ],
   "source": [
    "from IPython.display import IFrame\n",
    "IFrame(src='https://apmonitor.com/do/index.php/Main/DeepLearning', width=700, height=600)"
   ]
  },
  {
   "cell_type": "code",
   "execution_count": 7,
   "metadata": {},
   "outputs": [],
   "source": [
    "import numpy as np\n",
    "import pandas as pd\n",
    "from sklearn.preprocessing import MinMaxScaler\n",
    "from keras.models import Sequential\n",
    "from keras.layers import *\n",
    "import matplotlib.pyplot as plt\n",
    "from gekko import brain\n",
    "import numpy as np\n",
    "import matplotlib.pyplot as plt"
   ]
  },
  {
   "cell_type": "markdown",
   "metadata": {},
   "source": [
    "### 1. Data Export with Numpy / Import with Pandas"
   ]
  },
  {
   "cell_type": "code",
   "execution_count": 17,
   "metadata": {},
   "outputs": [],
   "source": [
    "# generate training data\n",
    "x = np.linspace(0.0,2*np.pi,20)\n",
    "y = np.sin(x)\n",
    "\n",
    "# save training data to file\n",
    "data = np.vstack((x,y)).T\n",
    "np.savetxt('train_data.csv',data,header='x,y',comments='',delimiter=',')\n",
    "\n",
    "# generate test data\n",
    "x = np.linspace(0.0,2*np.pi,100)\n",
    "y = np.sin(x)\n",
    "\n",
    "# save test data to file\n",
    "data = np.vstack((x,y)).T\n",
    "np.savetxt('test_data.csv',data,header='x,y',comments='',delimiter=',')"
   ]
  },
  {
   "cell_type": "markdown",
   "metadata": {},
   "source": [
    "### 2. Data Scaling with scikit-learn"
   ]
  },
  {
   "cell_type": "code",
   "execution_count": 8,
   "metadata": {},
   "outputs": [
    {
     "name": "stdout",
     "output_type": "stream",
     "text": [
      "Scalar multipliers\n",
      "[0.15915494 0.50171361]\n",
      "Scalar minimum\n",
      "[0.  0.5]\n"
     ]
    }
   ],
   "source": [
    "\"\"\"Data Scaling with scikit-learn\"\"\"\n",
    "# load training and test data with pandas\n",
    "train_df = pd.read_csv('train_data.csv')\n",
    "test_df = pd.read_csv('test_data.csv')\n",
    "\n",
    "# scale values to 0 to 1 for the ANN to work well\n",
    "s = MinMaxScaler(feature_range=(0,1))\n",
    "\n",
    "# scale training and test data\n",
    "sc_train = s.fit_transform(train_df)\n",
    "sc_test = s.transform(test_df)\n",
    "\n",
    "# print scaling adjustments\n",
    "print('Scalar multipliers')\n",
    "print(s.scale_)\n",
    "print('Scalar minimum')\n",
    "print(s.min_)\n"
   ]
  },
  {
   "cell_type": "code",
   "execution_count": 18,
   "metadata": {},
   "outputs": [],
   "source": [
    "# convert scaled values back to dataframe\n",
    "sc_train_df = pd.DataFrame(sc_train, columns=train_df.columns.values)\n",
    "sc_test_df = pd.DataFrame(sc_test, columns=test_df.columns.values)\n",
    "\n",
    "# save scaled values to CSV files\n",
    "sc_train_df.to_csv('train_scaled.csv', index=False)\n",
    "sc_test_df.to_csv('test_scaled.csv', index=False)"
   ]
  },
  {
   "cell_type": "markdown",
   "metadata": {},
   "source": [
    "### Model Build\n",
    "An artificial neural network relates inputs to outputs with layers of nodes. There nodes are also called neurons because they emulate the learning process that occurs in the brain where the connection strength is adjusted to change the learned outcome.\n",
    "\n",
    "Instead of just one layer, deep learning uses a multi-layered neural network. This neural network may have linear or nonlinear layers. The layer form is determined by the type of activation function (e.g. linear, rectified linear unit (ReLU), hyperbolic tangent) that transforms each intermediate input to the next layer."
   ]
  },
  {
   "cell_type": "markdown",
   "metadata": {},
   "source": [
    "Linear layers at the beginning and end are common. Increasing the number of layers can improve the fit but also requires more computational power for training and may cause the model to be over-parameterized and decrease the predictive capability.\n",
    "\n",
    "### 3. Model Build and Train with Keras"
   ]
  },
  {
   "cell_type": "code",
   "execution_count": 9,
   "metadata": {},
   "outputs": [
    {
     "data": {
      "text/plain": [
       "<keras.callbacks.callbacks.History at 0x1a3ad98b70>"
      ]
     },
     "execution_count": 9,
     "metadata": {},
     "output_type": "execute_result"
    }
   ],
   "source": [
    "\"\"\"Model Build and Train with Keras\"\"\"\n",
    "# create neural network model\n",
    "model = Sequential()\n",
    "model.add(Dense(1, input_dim=1, activation='linear'))\n",
    "model.add(Dense(2, activation='linear'))\n",
    "model.add(Dense(2, activation='tanh'))\n",
    "model.add(Dense(2, activation='linear'))\n",
    "model.add(Dense(1, activation='linear'))\n",
    "model.compile(loss=\"mean_squared_error\", optimizer=\"adam\")\n"
   ]
  },
  {
   "cell_type": "markdown",
   "metadata": {},
   "source": [
    "### Training\n",
    "A loss function (objective function) is minimized by adjusting the weights (unknown parameters) of the multi-layered neural network. An epoch is a full training cycle and is one iteration of the learning algorithm. A decrease in the loss function is monitored to ensure that the number of epochs is sufficient to refine the predictions without over-fitting to data irregularities such as random fluctuations."
   ]
  },
  {
   "cell_type": "code",
   "execution_count": null,
   "metadata": {},
   "outputs": [],
   "source": [
    "# load training data\n",
    "train_df = pd.read_csv(\"train_scaled.csv\")\n",
    "X1 = train_df.drop('y', axis=1).values\n",
    "Y1 = train_df[['y']].values\n",
    "\n",
    "# train the model\n",
    "model.fit(X1,Y1,epochs=5000,verbose=0,shuffle=True)\n",
    "\n",
    "# Save the model to hard drive\n",
    "#model.save('model.h5')"
   ]
  },
  {
   "cell_type": "markdown",
   "metadata": {},
   "source": [
    "### Validation\n",
    "The validation test set assesses the ability of the neural network to predict based on new conditions that were not part of the training set. Parity plots are one of many graphical methods to assess the fit. Mean squared error (MSE) or the R2 value are common quantitative measures of the fit.\n",
    "### 4. Model Validation with Keras"
   ]
  },
  {
   "cell_type": "code",
   "execution_count": 10,
   "metadata": {},
   "outputs": [
    {
     "name": "stdout",
     "output_type": "stream",
     "text": [
      "100/100 [==============================] - 0s 236us/step\n",
      "Mean Squared Error:  0.0005705007910728455\n"
     ]
    }
   ],
   "source": [
    "\"\"\"Model Validation with Keras\"\"\"\n",
    "# Load the model from hard drive\n",
    "#model.load('model.h5')\n",
    "\n",
    "# load test data\n",
    "test_df = pd.read_csv(\"test_scaled.csv\")\n",
    "X2 = test_df.drop('y', axis=1).values\n",
    "Y2 = test_df[['y']].values\n",
    "\n",
    "# test the model\n",
    "mse = model.evaluate(X2,Y2, verbose=1)\n",
    "\n",
    "print('Mean Squared Error: ', mse)"
   ]
  },
  {
   "cell_type": "markdown",
   "metadata": {},
   "source": [
    "### Deployment\n",
    "The deep learning algorithm may be deployed across a wide variety of computing infrastructure or cloud-based services. There is specialized hardware such as Tensor processing units that is designed for high volume or low power. Python packages such as Keras are designed for prototyping and run on top of more capable and configurable packages such as TensorFlow.\n",
    "\n",
    "Self-learning algorithms continue to refine the model based on new data. This is similar to the Moving Horizon Estimation approach where unknown parameters are updated to best match the new measurement while also preserving the prior training.\n",
    "\n",
    "### 5. Model Predictions with Keras"
   ]
  },
  {
   "cell_type": "code",
   "execution_count": 15,
   "metadata": {},
   "outputs": [
    {
     "data": {
      "image/png": "[encoded data removed]",
      "text/plain": [
       "<Figure size 432x288 with 1 Axes>"
      ]
     },
     "metadata": {
      "needs_background": "light"
     },
     "output_type": "display_data"
    }
   ],
   "source": [
    "# generate prediction data\n",
    "x = np.linspace(-2*np.pi,4*np.pi,100)\n",
    "y = np.sin(x)\n",
    "# scale input\n",
    "X3 = x*s.scale_[0]+s.min_[0]\n",
    "# predict\n",
    "Y3P = model.predict(X3)\n",
    "# unscale output\n",
    "yp = (Y3P-s.min_[1])/s.scale_[1]\n",
    "\n",
    "plt.figure()\n",
    "plt.plot((X1-s.min_[0])/s.scale_[0], \\\n",
    "                 (Y1-s.min_[1])/s.scale_[1], \\\n",
    "                 'bo',label='train')\n",
    "plt.plot(x,y,'r-',label='actual')\n",
    "plt.plot(x,yp,'k--',label='predict')\n",
    "plt.legend(loc='best')\n",
    "plt.savefig('results.png')\n",
    "plt.show()"
   ]
  },
  {
   "cell_type": "code",
   "execution_count": null,
   "metadata": {},
   "outputs": [],
   "source": []
  }
 ],
 "metadata": {
  "kernelspec": {
   "display_name": "Python 3",
   "language": "python",
   "name": "python3"
  },
  "language_info": {
   "codemirror_mode": {
    "name": "ipython",
    "version": 3
   },
   "file_extension": ".py",
   "mimetype": "text/x-python",
   "name": "python",
   "nbconvert_exporter": "python",
   "pygments_lexer": "ipython3",
   "version": "3.7.3"
  }
 },
 "nbformat": 4,
 "nbformat_minor": 2
}
